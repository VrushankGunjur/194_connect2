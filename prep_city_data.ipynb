{
 "cells": [
  {
   "cell_type": "code",
   "execution_count": 26,
   "metadata": {},
   "outputs": [],
   "source": [
    "import pandas as pd"
   ]
  },
  {
   "cell_type": "code",
   "execution_count": 27,
   "metadata": {},
   "outputs": [],
   "source": [
    "data = pd.read_json('geonames-all-cities-with-a-population-1000.json')"
   ]
  },
  {
   "cell_type": "code",
   "execution_count": 28,
   "metadata": {},
   "outputs": [],
   "source": [
    "data = data[['name', 'cou_name_en', 'coordinates', 'population']]"
   ]
  },
  {
   "cell_type": "code",
   "execution_count": 34,
   "metadata": {},
   "outputs": [],
   "source": [
    "fin_data = data[data['population'] > 200_000].sort_values(by=['name'])"
   ]
  },
  {
   "cell_type": "code",
   "execution_count": 35,
   "metadata": {},
   "outputs": [
    {
     "data": {
      "text/html": [
       "<div>\n",
       "<style scoped>\n",
       "    .dataframe tbody tr th:only-of-type {\n",
       "        vertical-align: middle;\n",
       "    }\n",
       "\n",
       "    .dataframe tbody tr th {\n",
       "        vertical-align: top;\n",
       "    }\n",
       "\n",
       "    .dataframe thead th {\n",
       "        text-align: right;\n",
       "    }\n",
       "</style>\n",
       "<table border=\"1\" class=\"dataframe\">\n",
       "  <thead>\n",
       "    <tr style=\"text-align: right;\">\n",
       "      <th></th>\n",
       "      <th>name</th>\n",
       "      <th>cou_name_en</th>\n",
       "      <th>coordinates</th>\n",
       "      <th>population</th>\n",
       "    </tr>\n",
       "  </thead>\n",
       "  <tbody>\n",
       "    <tr>\n",
       "      <th>63287</th>\n",
       "      <td>6th of October City</td>\n",
       "      <td>Egypt</td>\n",
       "      <td>{'lon': 31.05, 'lat': 29.81667}</td>\n",
       "      <td>368650</td>\n",
       "    </tr>\n",
       "    <tr>\n",
       "      <th>78616</th>\n",
       "      <td>A Coruña</td>\n",
       "      <td>Spain</td>\n",
       "      <td>{'lon': -8.396, 'lat': 43.37135}</td>\n",
       "      <td>246056</td>\n",
       "    </tr>\n",
       "    <tr>\n",
       "      <th>50405</th>\n",
       "      <td>Aachen</td>\n",
       "      <td>Germany</td>\n",
       "      <td>{'lon': 6.08342, 'lat': 50.77664}</td>\n",
       "      <td>265208</td>\n",
       "    </tr>\n",
       "    <tr>\n",
       "      <th>56595</th>\n",
       "      <td>Aba</td>\n",
       "      <td>Nigeria</td>\n",
       "      <td>{'lon': 7.36667, 'lat': 5.10658}</td>\n",
       "      <td>1160000</td>\n",
       "    </tr>\n",
       "    <tr>\n",
       "      <th>96053</th>\n",
       "      <td>Abadan</td>\n",
       "      <td>Iran, Islamic Rep. of</td>\n",
       "      <td>{'lon': 48.3043, 'lat': 30.3392}</td>\n",
       "      <td>370180</td>\n",
       "    </tr>\n",
       "    <tr>\n",
       "      <th>...</th>\n",
       "      <td>...</td>\n",
       "      <td>...</td>\n",
       "      <td>...</td>\n",
       "      <td>...</td>\n",
       "    </tr>\n",
       "    <tr>\n",
       "      <th>70748</th>\n",
       "      <td>Şanlıurfa</td>\n",
       "      <td>Turkey</td>\n",
       "      <td>{'lon': 38.79392, 'lat': 37.16708}</td>\n",
       "      <td>449549</td>\n",
       "    </tr>\n",
       "    <tr>\n",
       "      <th>10361</th>\n",
       "      <td>Şişli</td>\n",
       "      <td>Turkey</td>\n",
       "      <td>{'lon': 28.98717, 'lat': 41.06046}</td>\n",
       "      <td>314684</td>\n",
       "    </tr>\n",
       "    <tr>\n",
       "      <th>85042</th>\n",
       "      <td>Ţarţūs</td>\n",
       "      <td>Syrian Arab Republic</td>\n",
       "      <td>{'lon': 35.88659, 'lat': 34.88902}</td>\n",
       "      <td>458327</td>\n",
       "    </tr>\n",
       "    <tr>\n",
       "      <th>50463</th>\n",
       "      <td>Ḩalwān</td>\n",
       "      <td>Egypt</td>\n",
       "      <td>{'lon': 31.30084, 'lat': 29.84144}</td>\n",
       "      <td>230000</td>\n",
       "    </tr>\n",
       "    <tr>\n",
       "      <th>9982</th>\n",
       "      <td>Ḩamāh</td>\n",
       "      <td>Syrian Arab Republic</td>\n",
       "      <td>{'lon': 36.75783, 'lat': 35.13179}</td>\n",
       "      <td>460602</td>\n",
       "    </tr>\n",
       "  </tbody>\n",
       "</table>\n",
       "<p>2566 rows × 4 columns</p>\n",
       "</div>"
      ],
      "text/plain": [
       "                      name            cou_name_en  \\\n",
       "63287  6th of October City                  Egypt   \n",
       "78616             A Coruña                  Spain   \n",
       "50405               Aachen                Germany   \n",
       "56595                  Aba                Nigeria   \n",
       "96053               Abadan  Iran, Islamic Rep. of   \n",
       "...                    ...                    ...   \n",
       "70748            Şanlıurfa                 Turkey   \n",
       "10361                Şişli                 Turkey   \n",
       "85042               Ţarţūs   Syrian Arab Republic   \n",
       "50463               Ḩalwān                  Egypt   \n",
       "9982                 Ḩamāh   Syrian Arab Republic   \n",
       "\n",
       "                              coordinates  population  \n",
       "63287     {'lon': 31.05, 'lat': 29.81667}      368650  \n",
       "78616    {'lon': -8.396, 'lat': 43.37135}      246056  \n",
       "50405   {'lon': 6.08342, 'lat': 50.77664}      265208  \n",
       "56595    {'lon': 7.36667, 'lat': 5.10658}     1160000  \n",
       "96053    {'lon': 48.3043, 'lat': 30.3392}      370180  \n",
       "...                                   ...         ...  \n",
       "70748  {'lon': 38.79392, 'lat': 37.16708}      449549  \n",
       "10361  {'lon': 28.98717, 'lat': 41.06046}      314684  \n",
       "85042  {'lon': 35.88659, 'lat': 34.88902}      458327  \n",
       "50463  {'lon': 31.30084, 'lat': 29.84144}      230000  \n",
       "9982   {'lon': 36.75783, 'lat': 35.13179}      460602  \n",
       "\n",
       "[2566 rows x 4 columns]"
      ]
     },
     "execution_count": 35,
     "metadata": {},
     "output_type": "execute_result"
    }
   ],
   "source": [
    "fin_data"
   ]
  },
  {
   "cell_type": "code",
   "execution_count": 36,
   "metadata": {},
   "outputs": [],
   "source": [
    "fin_data.to_json('city-pop-200k.json', orient='records')"
   ]
  },
  {
   "cell_type": "code",
   "execution_count": null,
   "metadata": {},
   "outputs": [],
   "source": []
  }
 ],
 "metadata": {
  "kernelspec": {
   "display_name": "Python 3 (ipykernel)",
   "language": "python",
   "name": "python3"
  },
  "language_info": {
   "codemirror_mode": {
    "name": "ipython",
    "version": 3
   },
   "file_extension": ".py",
   "mimetype": "text/x-python",
   "name": "python",
   "nbconvert_exporter": "python",
   "pygments_lexer": "ipython3",
   "version": "3.11.6"
  }
 },
 "nbformat": 4,
 "nbformat_minor": 2
}
